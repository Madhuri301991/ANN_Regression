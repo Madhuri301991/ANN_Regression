{
  "nbformat": 4,
  "nbformat_minor": 0,
  "metadata": {
    "colab": {
      "provenance": [],
      "collapsed_sections": []
    },
    "kernelspec": {
      "name": "python3",
      "display_name": "Python 3"
    },
    "language_info": {
      "name": "python"
    }
  },
  "cells": [
    {
      "cell_type": "markdown",
      "source": [
        "# Artifical Neural Network"
      ],
      "metadata": {
        "id": "nOf5S5IziN5G"
      }
    },
    {
      "cell_type": "markdown",
      "source": [
        "Build an ANN Regression model to predict the electrical energy output of a Combined Cycle Power Plant"
      ],
      "metadata": {
        "id": "JTUhP7nsq2vv"
      }
    },
    {
      "cell_type": "markdown",
      "source": [
        "Importing the libraries"
      ],
      "metadata": {
        "id": "6S-bVkYjiTmu"
      }
    },
    {
      "cell_type": "code",
      "source": [
        "import numpy as np\n",
        "import pandas as pd \n",
        "import tensorflow as tf"
      ],
      "metadata": {
        "id": "RMZtEO1QiYvW"
      },
      "execution_count": null,
      "outputs": []
    },
    {
      "cell_type": "code",
      "source": [
        "tf.__version__"
      ],
      "metadata": {
        "id": "FUvVRawDjNjP"
      },
      "execution_count": null,
      "outputs": []
    },
    {
      "cell_type": "markdown",
      "source": [
        "# Part 1: Data Preprocessing"
      ],
      "metadata": {
        "id": "209mU2c8jUk9"
      }
    },
    {
      "cell_type": "markdown",
      "source": [
        "Importing the dataset"
      ],
      "metadata": {
        "id": "owtzvN4fjYXO"
      }
    },
    {
      "cell_type": "code",
      "source": [
        "dataset=pd.read_excel('Folds5x2_pp.xlsx')\n",
        "X=dataset.iloc[:,:-1].values  \n",
        "#[:,:-1] before comma (:,) retrieves all rows /after comman (:,:-1) retrieves all columns from start to end \n",
        "y=dataset.iloc[:,-1].values #[:,-1] retrieves all rows and only last column -1\n"
      ],
      "metadata": {
        "id": "mDF6oVZOjbqv"
      },
      "execution_count": null,
      "outputs": []
    },
    {
      "cell_type": "markdown",
      "source": [
        "data collected from\n",
        "combined Cycle Power Plant dataset \n",
        "from UCI Machine Learning Repository\n",
        "\n",
        "\n",
        "*  Has 10,000 records\n",
        "\n",
        "\n",
        "*   columns : temperature, pressure, humidity, vaccum, predict: output energy\n",
        "\n",
        "\n",
        "\n",
        "\n"
      ],
      "metadata": {
        "id": "RpFYdbJgomA1"
      }
    },
    {
      "cell_type": "markdown",
      "source": [
        "Splitting the dataset into Training set and Test set"
      ],
      "metadata": {
        "id": "J68HdWM5nCtQ"
      }
    },
    {
      "cell_type": "code",
      "source": [
        "from sklearn.model_selection import train_test_split\n",
        "X_train,X_test,y_train,y_test=train_test_split(X,y,test_size=0.2,random_state=0)"
      ],
      "metadata": {
        "id": "58ZRHbxdnLws"
      },
      "execution_count": null,
      "outputs": []
    },
    {
      "cell_type": "markdown",
      "source": [
        "# Part 2 : Building the ANN"
      ],
      "metadata": {
        "id": "dBoHNz52p8H9"
      }
    },
    {
      "cell_type": "markdown",
      "source": [
        "Intializing the ANN"
      ],
      "metadata": {
        "id": "7ng57rmCqyUt"
      }
    },
    {
      "cell_type": "markdown",
      "source": [
        "ANN has two types 1] sequence of layers 2] Computational graph\n",
        "\n",
        "*  Tensorflow is a library that allows to train deep learning model / neural network related tools \n",
        "\n",
        "\n",
        "*   Sequential class contains all the properties and actions needed to build ANN\n",
        "\n",
        "\n",
        "\n"
      ],
      "metadata": {
        "id": "9Iyr37Ikq72k"
      }
    },
    {
      "cell_type": "markdown",
      "source": [],
      "metadata": {
        "id": "IkHEJhMotNCL"
      }
    },
    {
      "cell_type": "code",
      "source": [
        "ann=tf.keras.models.Sequential()"
      ],
      "metadata": {
        "id": "YOassT9csVHR"
      },
      "execution_count": null,
      "outputs": []
    },
    {
      "cell_type": "markdown",
      "source": [
        "Adding the input layer and first hidden layer"
      ],
      "metadata": {
        "id": "g5HG_sSgsh0K"
      }
    },
    {
      "cell_type": "markdown",
      "source": [
        "\n",
        "*   Dense class creates fully connected layer (connection) between input layer and first hidden layer\n",
        "*   units is number of neurons in first hidden layer\n",
        "\n",
        "\n",
        "*   No need to add no of inputs ( that is automatically recognized by tensorflow)\n",
        "\n",
        "\n",
        "*   activation function needed between input layer and the first hidden layer is rectifier activation function\n",
        "*   Second hidden layer is connected automatically to the first hidden layer\n",
        "\n",
        "\n",
        "*   Second hidden layer is connected automatically to output layer\n",
        "\n",
        "\n",
        "*   Output layer has one neuron so units=1 \n",
        "\n",
        "*   Output layer use sigmoid or softmax activation function but sigmoid/softmax used for classification so here dont use activation function. if classification to predict two variables (yes,no) use sigmoid function. If classification to predict more than two variables use softmax function. if doing regression to choose continuous variable as output then use no activation\n",
        "\n",
        "\n",
        "\n",
        "\n",
        "\n",
        "\n",
        "\n",
        "\n",
        "\n"
      ],
      "metadata": {
        "id": "lLnSBpnctOIK"
      }
    },
    {
      "cell_type": "code",
      "source": [
        "ann.add(tf.keras.layers.Dense(units=6,activation='relu'))"
      ],
      "metadata": {
        "id": "hwm-fBU1umGb"
      },
      "execution_count": null,
      "outputs": []
    },
    {
      "cell_type": "markdown",
      "source": [
        "Adding the second hidden layer"
      ],
      "metadata": {
        "id": "HB0JvYvfu8-z"
      }
    },
    {
      "cell_type": "code",
      "source": [
        "ann.add(tf.keras.layers.Dense(units=6,activation='relu'))"
      ],
      "metadata": {
        "id": "h9PgVkO-vjJ0"
      },
      "execution_count": null,
      "outputs": []
    },
    {
      "cell_type": "markdown",
      "source": [
        "Adding the output layer"
      ],
      "metadata": {
        "id": "1Fa2wFgiv82i"
      }
    },
    {
      "cell_type": "code",
      "source": [
        "ann.add(tf.keras.layers.Dense(units=1))"
      ],
      "metadata": {
        "id": "W7tOcDeDwCs1"
      },
      "execution_count": null,
      "outputs": []
    },
    {
      "cell_type": "markdown",
      "source": [
        "# Part 3 : Training the ANN "
      ],
      "metadata": {
        "id": "dzNWcnCMy-VT"
      }
    },
    {
      "cell_type": "markdown",
      "source": [
        "Compiling the ANN"
      ],
      "metadata": {
        "id": "AXqwuQ6vVQio"
      }
    },
    {
      "cell_type": "markdown",
      "source": [
        "\n",
        "\n",
        "*   Connecting the ANN to an optimizer and a loss function\n",
        "*   optimizer will otpimize the weight in order to reduce the loss (difference between real and predicted results) that was backpropogated --> so use 'adam' optimizer\n",
        "\n",
        "*   mean_squared_error -- is the sum of the squared differences between the predication and the real results\n",
        "\n",
        "\n",
        "*   Over each epoch, the loss is slightly reduced\n",
        "\n",
        "\n"
      ],
      "metadata": {
        "id": "ZLFsGoZNVWQs"
      }
    },
    {
      "cell_type": "code",
      "source": [
        "ann.compile(optimizer='adam',loss='mean_squared_error')"
      ],
      "metadata": {
        "id": "6ChZRTsUbf8P"
      },
      "execution_count": null,
      "outputs": []
    },
    {
      "cell_type": "markdown",
      "source": [
        "Training the ANN model on the training set"
      ],
      "metadata": {
        "id": "niaGM5JTkST2"
      }
    },
    {
      "cell_type": "code",
      "source": [
        "ann.fit(X_train,y_train,batch_size=32,epochs=100)"
      ],
      "metadata": {
        "id": "FNZ3vkoYleA2"
      },
      "execution_count": null,
      "outputs": []
    },
    {
      "cell_type": "markdown",
      "source": [
        "Predicting the result of the test set"
      ],
      "metadata": {
        "id": "l941XOaxmBlA"
      }
    },
    {
      "cell_type": "markdown",
      "source": [
        "\n",
        "\n",
        "1.   predict method predicts the result of any observation\n",
        "2.   compare vertically value of y_pred = predicated output energy value and y_test= real output energy value\n",
        "\n",
        "*   y_pred.reshape(len(y_pred),1) -- this line converts horizontal values to vertical= we are forming matrix of len(y_pred) rows and 1 column\n",
        "*   concatenate takes two parameters, 1st parameter is the two vectors to concatenate, second parameter is the axis along which to concatenate. 1 means vertical concatenation, 0 means horizontal concatenation\n",
        "\n",
        "\n"
      ],
      "metadata": {
        "id": "atHgp3Kfmjrv"
      }
    },
    {
      "cell_type": "code",
      "source": [
        "#predicting results of new observations \n",
        "y_pred=ann.predict(X_test)\n",
        "#precision=2 gives 2places after comma \n",
        "np.set_printoptions(precision=2)\n",
        "# concatenate funcations puts them one another \n",
        "print(np.concatenate((y_pred.reshape(len(y_pred),1),y_test.reshape(len(y_test),1)),1))"
      ],
      "metadata": {
        "id": "jdHWxWoFmahp"
      },
      "execution_count": null,
      "outputs": []
    }
  ]
}